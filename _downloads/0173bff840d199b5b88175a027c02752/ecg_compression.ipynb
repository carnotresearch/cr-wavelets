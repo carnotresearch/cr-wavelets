{
  "cells": [
    {
      "cell_type": "markdown",
      "metadata": {},
      "source": [
        "\n# ECG Data Compression\n    :depth: 2\n    :local:\n\nIn this example, we demonstrate the compression of ECG data\nusing biorthogonal wavelets. We shall first go through\ndifferent steps of the wavelet compression algorithm\none by one. We will then show a unified encoder\ndecoder function.\n\nThis example is adapted from the sample code provided\nin [nerajbobra/wavelet-based-ecg-compression](https://github.com/nerajbobra/wavelet-based-ecg-compression).\nDo refer to its documentation to get a general sense\nof the compression algorithm.\n\nThis implementation is significantly different\nand optimized.\n"
      ]
    },
    {
      "cell_type": "code",
      "execution_count": null,
      "metadata": {
        "collapsed": false
      },
      "outputs": [],
      "source": [
        "# Configure JAX to work with 64-bit floating point precision. \nfrom jax.config import config\nconfig.update(\"jax_enable_x64\", True)"
      ]
    },
    {
      "cell_type": "markdown",
      "metadata": {},
      "source": [
        "Let's import necessary libraries\n\n"
      ]
    },
    {
      "cell_type": "code",
      "execution_count": null,
      "metadata": {
        "collapsed": false
      },
      "outputs": [],
      "source": [
        "import jax \nimport numpy as np\nimport jax.numpy as jnp\n# CR-Suite libraries\nimport cr.nimble as crn\nimport cr.nimble.dsp as crdsp\nimport cr.wavelets as crwt\nfrom cr.wavelets.codec import *\nfrom cr.wavelets.plots import *\n# Sample data\nfrom scipy.misc import electrocardiogram\n# Plotting\nimport matplotlib.pyplot as plt\n# Miscellaneous\nfrom scipy.signal import detrend"
      ]
    },
    {
      "cell_type": "markdown",
      "metadata": {},
      "source": [
        "## Encoder Configuration\n\n"
      ]
    },
    {
      "cell_type": "code",
      "execution_count": null,
      "metadata": {
        "collapsed": false
      },
      "outputs": [],
      "source": [
        "# Number of samples per signal\nNUM_SAMPLES_BLOCK = 3000\n# Name of wavelet to be used for signal decomposition\nWAVELET_NAME = 'bior4.4'\n# Number of levels of decomposition\nWAVELET_LEVEL = 5\n# Fraction of energy to be preserved in each decomposition level \nWAVELET_ENERGY_THRESHOLDS = [0.999, 0.97, 0.85, 0.85, 0.85, 0.85]\n# Maximum percentage root mean square difference acceptable in quantization\nMAX_PRD = 40 # percent"
      ]
    },
    {
      "cell_type": "markdown",
      "metadata": {},
      "source": [
        "## Test signal\nSciPy includes a test electrocardiogram signal\nwhich is a 5 minute long electrocardiogram (ECG), \na medical recording of the electrical activity of the heart, \nsampled at 360 Hz.\n\n"
      ]
    },
    {
      "cell_type": "code",
      "execution_count": null,
      "metadata": {
        "collapsed": false
      },
      "outputs": [],
      "source": [
        "ecg = electrocardiogram()\n# Sampling frequency in Hz\nfs = 360\n# We shall only process one signal in this demo\nsignal = ecg[:NUM_SAMPLES_BLOCK]\nn = len(signal)\nt = np.arange(n) * (1/fs)\nfig, ax = plt.subplots(figsize=(16,4))\nax.plot(t, signal);"
      ]
    },
    {
      "cell_type": "markdown",
      "metadata": {},
      "source": [
        "Preprocessing\n\n"
      ]
    },
    {
      "cell_type": "code",
      "execution_count": null,
      "metadata": {
        "collapsed": false
      },
      "outputs": [],
      "source": [
        "# Remove the linear trend from the signal\nsignal = detrend(signal)\nfig, ax = plt.subplots(figsize=(16,4))\nax.plot(t, signal);"
      ]
    },
    {
      "cell_type": "markdown",
      "metadata": {},
      "source": [
        "## Encoder\n\n"
      ]
    },
    {
      "cell_type": "markdown",
      "metadata": {},
      "source": [
        "Let us perform a wavelet decomposition of this signal\n\n"
      ]
    },
    {
      "cell_type": "code",
      "execution_count": null,
      "metadata": {
        "collapsed": false
      },
      "outputs": [],
      "source": [
        "wavelet = crwt.to_wavelet(WAVELET_NAME)\ncoeffs = crwt.wavedec(signal, wavelet, level=WAVELET_LEVEL)\nfig, axes = plt.subplots(6, 1, figsize=(16,25))\nplot_decomposition(fig, axes, coeffs)"
      ]
    },
    {
      "cell_type": "markdown",
      "metadata": {},
      "source": [
        "Let us check the quality of the reconstruction\n\n"
      ]
    },
    {
      "cell_type": "code",
      "execution_count": null,
      "metadata": {
        "collapsed": false
      },
      "outputs": [],
      "source": [
        "rec = crwt.waverec(coeffs, wavelet)\nfig, ax = plt.subplots(figsize=(16,5))\nplot_2_signals(fig, ax, signal, rec, fs=fs)"
      ]
    },
    {
      "cell_type": "markdown",
      "metadata": {},
      "source": [
        "Percentage root mean square difference\n\n"
      ]
    },
    {
      "cell_type": "code",
      "execution_count": null,
      "metadata": {
        "collapsed": false
      },
      "outputs": [],
      "source": [
        "print(crn.prd(signal, rec))"
      ]
    },
    {
      "cell_type": "markdown",
      "metadata": {},
      "source": [
        "Let us threshold different levels of decomposition\nby keeping as few large coefficients as required to meet\nthe target energy fraction (separately for each level)\n\n"
      ]
    },
    {
      "cell_type": "code",
      "execution_count": null,
      "metadata": {
        "collapsed": false
      },
      "outputs": [],
      "source": [
        "th_coeffs, binmaps = threshold(coeffs, WAVELET_ENERGY_THRESHOLDS)\n# Let us plot them to see the coefficients which have been zeroed out\nfig, axes = plt.subplots(6, 1, figsize=(16,25))\nplot_2_decompositions(fig, axes, coeffs, th_coeffs, label2='Thresholded')"
      ]
    },
    {
      "cell_type": "markdown",
      "metadata": {},
      "source": [
        "Let us remove the zero entries from thresholded coefficients\n\n"
      ]
    },
    {
      "cell_type": "code",
      "execution_count": null,
      "metadata": {
        "collapsed": false
      },
      "outputs": [],
      "source": [
        "nz_th_coeffs = remove_zeros(th_coeffs, binmaps)\n# number of non-zero coefficients left at each level\nfor c in nz_th_coeffs: print(len(c))"
      ]
    },
    {
      "cell_type": "markdown",
      "metadata": {},
      "source": [
        "Let us check how much loss we have suffered due to thresholding\n\n"
      ]
    },
    {
      "cell_type": "code",
      "execution_count": null,
      "metadata": {
        "collapsed": false
      },
      "outputs": [],
      "source": [
        "# Add back the zeros\ntmp = add_zeros(nz_th_coeffs, binmaps)\n# Perform reconstruction using thresholded coefficients\nth_rec = crwt.waverec(tmp, wavelet)\nfig, ax = plt.subplots(figsize=(16,5))\nplot_2_signals(fig, ax, signal, th_rec, fs=fs)\n# Compute the percentage root mean square difference \nprint(crn.prd(signal, th_rec))"
      ]
    },
    {
      "cell_type": "markdown",
      "metadata": {},
      "source": [
        "Let us now scale the nonzero thresholded coefficients to 0-1 range\n\n"
      ]
    },
    {
      "cell_type": "code",
      "execution_count": null,
      "metadata": {
        "collapsed": false
      },
      "outputs": [],
      "source": [
        "scaled_coeffs, shifts, scales = scale_to_0_1(nz_th_coeffs)\n# Let us plot to verify that they are indeed now in 0-1 range\nfig, axes = plt.subplots(6, 1, figsize=(16,25))\nplot_decomposition(fig, axes, scaled_coeffs, stem=True)"
      ]
    },
    {
      "cell_type": "markdown",
      "metadata": {},
      "source": [
        "Let us quantize the scaled coefficients so that\nwe meet the maximum PRD criteria.\n\n"
      ]
    },
    {
      "cell_type": "code",
      "execution_count": null,
      "metadata": {
        "collapsed": false
      },
      "outputs": [],
      "source": [
        "(quantized_coeffs, num_bits, \n    cur_prd) = quantize_to_prd_target(signal, \n    WAVELET_NAME, WAVELET_LEVEL, \n    scaled_coeffs, shifts, scales, binmaps, MAX_PRD)\n# Let us look at the quantized coefficients at each decomposition level\nfig, axes = plt.subplots(6, 1, figsize=(16,25))\nplot_decomposition(fig, axes, quantized_coeffs, stem=True)\n# Check how many bits are being used per sample and the achieved PRD\nprint(num_bits, cur_prd)"
      ]
    },
    {
      "cell_type": "markdown",
      "metadata": {},
      "source": [
        "Merge the coefficients and binary maps of different levels to single arrays\n\n"
      ]
    },
    {
      "cell_type": "code",
      "execution_count": null,
      "metadata": {
        "collapsed": false
      },
      "outputs": [],
      "source": [
        "combined_coeffs = combine_arrays(quantized_coeffs)\ncombined_binmaps = combine_arrays(binmaps)\nprint(len(combined_coeffs), len(combined_binmaps))"
      ]
    },
    {
      "cell_type": "markdown",
      "metadata": {},
      "source": [
        "We are now ready with all the data that needs to be\ntransmitted to the decoder. This includes:\n\n- The quantized nonzero coefficients\n- The binary maps\n- The shifts and scales for each level used during scaling\n- The number of bits per sample used for quantization\n\nWe shall use the coding function which will\ncompress all of this data into a packed ``bitarray``.\n\n"
      ]
    },
    {
      "cell_type": "code",
      "execution_count": null,
      "metadata": {
        "collapsed": false
      },
      "outputs": [],
      "source": [
        "result = encode_cbss_to_bits(combined_coeffs, combined_binmaps, \n    shifts, scales, num_bits)"
      ]
    },
    {
      "cell_type": "markdown",
      "metadata": {},
      "source": [
        "Check the number of bits used in compressing the whole block\n\n"
      ]
    },
    {
      "cell_type": "code",
      "execution_count": null,
      "metadata": {
        "collapsed": false
      },
      "outputs": [],
      "source": [
        "print(len(result))"
      ]
    },
    {
      "cell_type": "markdown",
      "metadata": {},
      "source": [
        "We can also check the average number of bits per sample\n\n"
      ]
    },
    {
      "cell_type": "code",
      "execution_count": null,
      "metadata": {
        "collapsed": false
      },
      "outputs": [],
      "source": [
        "print(len(result)/NUM_SAMPLES_BLOCK)"
      ]
    },
    {
      "cell_type": "markdown",
      "metadata": {},
      "source": [
        "The MIT-BIH database is encoded at 11-bits per sample.\nWe can use this to compute the compression ratio\n\n"
      ]
    },
    {
      "cell_type": "code",
      "execution_count": null,
      "metadata": {
        "collapsed": false
      },
      "outputs": [],
      "source": [
        "compression_ratio = len(signal) * 11 / len(result)\nprint(compression_ratio)"
      ]
    },
    {
      "cell_type": "markdown",
      "metadata": {},
      "source": [
        "## Decoding\nWe note that the decoder has access to only\nthe encoded bitstream and the encoder configuration parameters.\nIt doesn't have access to any other intermediate data that was\nproduced during encoding.\n\n"
      ]
    },
    {
      "cell_type": "markdown",
      "metadata": {},
      "source": [
        "The first step is to extract all the data from the packed bitarray.\nNote that the number of bits per sample used for quantization is\nalso being read from the bitstream.\n\n"
      ]
    },
    {
      "cell_type": "code",
      "execution_count": null,
      "metadata": {
        "collapsed": false
      },
      "outputs": [],
      "source": [
        "(dec_c_coeffs, dec_c_binmaps, \n dec_shifts, dec_scales, dec_qbits) = decode_cbss_from_bits(\n    WAVELET_NAME, WAVELET_LEVEL, NUM_SAMPLES_BLOCK, result)\n# Since we have encoding steps data available, we can\n# cross check to see if the data extraction from the\n# bitstream happened correctly.\nprint(np.allclose(shifts, dec_shifts))\nprint(np.allclose(scales, dec_scales))\nprint(np.allclose(combined_binmaps, dec_c_binmaps))\nprint(np.allclose(combined_coeffs, dec_c_coeffs))"
      ]
    },
    {
      "cell_type": "markdown",
      "metadata": {},
      "source": [
        "Let us now split the coefficients and binary maps to different\ndecomposition levels\n\n"
      ]
    },
    {
      "cell_type": "code",
      "execution_count": null,
      "metadata": {
        "collapsed": false
      },
      "outputs": [],
      "source": [
        "dec_coeffs, dec_binmaps = split_coefs_binmaps(\n    WAVELET_NAME, WAVELET_LEVEL, NUM_SAMPLES_BLOCK, \n    dec_c_coeffs, dec_c_binmaps)"
      ]
    },
    {
      "cell_type": "markdown",
      "metadata": {},
      "source": [
        "Perform inverse quantization of nonzero coefficients\n\n"
      ]
    },
    {
      "cell_type": "code",
      "execution_count": null,
      "metadata": {
        "collapsed": false
      },
      "outputs": [],
      "source": [
        "inv_quant_coeffs = inv_quantize_1(dec_coeffs, dec_qbits)"
      ]
    },
    {
      "cell_type": "markdown",
      "metadata": {},
      "source": [
        "Perform descaling of the coefficients from [0, 1] range to their original ranges\n\n"
      ]
    },
    {
      "cell_type": "code",
      "execution_count": null,
      "metadata": {
        "collapsed": false
      },
      "outputs": [],
      "source": [
        "dec_unscaled_coeffs = descale_from_0_1(inv_quant_coeffs, dec_shifts, dec_scales)"
      ]
    },
    {
      "cell_type": "markdown",
      "metadata": {},
      "source": [
        "Add back the zero entries using the binary maps\n\n"
      ]
    },
    {
      "cell_type": "code",
      "execution_count": null,
      "metadata": {
        "collapsed": false
      },
      "outputs": [],
      "source": [
        "dec_coeffs = add_zeros(dec_unscaled_coeffs, dec_binmaps)"
      ]
    },
    {
      "cell_type": "markdown",
      "metadata": {},
      "source": [
        "Perform reconstruction of the signal from the decoded wavelet decomposition\n\n"
      ]
    },
    {
      "cell_type": "code",
      "execution_count": null,
      "metadata": {
        "collapsed": false
      },
      "outputs": [],
      "source": [
        "dec_reconstructed = crwt.waverec(dec_coeffs, wavelet)\n# Plot the original signal and reconstructed signal together\nfig, ax = plt.subplots(figsize=(16,5))\nplot_2_signals(fig, ax, signal, dec_reconstructed, fs=fs)"
      ]
    },
    {
      "cell_type": "markdown",
      "metadata": {},
      "source": [
        "Measure the percentage root mean square difference\n\n"
      ]
    },
    {
      "cell_type": "code",
      "execution_count": null,
      "metadata": {
        "collapsed": false
      },
      "outputs": [],
      "source": [
        "print(crn.prd(signal, dec_reconstructed))"
      ]
    },
    {
      "cell_type": "markdown",
      "metadata": {},
      "source": [
        "## Full CODEC\nCarefully carrying out individual steps in the\ncompression and reconstruction is hard.\nIt would be great if the library can provide\nsimple functions which wrap all the encoding\nand decoding operations together.\n\n"
      ]
    },
    {
      "cell_type": "markdown",
      "metadata": {},
      "source": [
        "We can use the ``build_codec`` function to\nbuild an encoder and decoder function based on\nthe encoder configuration parameters\n\n"
      ]
    },
    {
      "cell_type": "code",
      "execution_count": null,
      "metadata": {
        "collapsed": false
      },
      "outputs": [],
      "source": [
        "encoder, decoder = build_codec(\n    WAVELET_NAME, WAVELET_LEVEL, NUM_SAMPLES_BLOCK, MAX_PRD, WAVELET_ENERGY_THRESHOLDS)"
      ]
    },
    {
      "cell_type": "markdown",
      "metadata": {},
      "source": [
        "Let us use the encoder to compress the signal\n\n"
      ]
    },
    {
      "cell_type": "code",
      "execution_count": null,
      "metadata": {
        "collapsed": false
      },
      "outputs": [],
      "source": [
        "bits = encoder(signal)"
      ]
    },
    {
      "cell_type": "markdown",
      "metadata": {},
      "source": [
        "Check that the encoder function did exactly the same thing as\nour step by step procedure above.\n\n"
      ]
    },
    {
      "cell_type": "code",
      "execution_count": null,
      "metadata": {
        "collapsed": false
      },
      "outputs": [],
      "source": [
        "print(result == bits)"
      ]
    },
    {
      "cell_type": "markdown",
      "metadata": {},
      "source": [
        "Now reconstruct the signal from the encoded bitstream\n\n"
      ]
    },
    {
      "cell_type": "code",
      "execution_count": null,
      "metadata": {
        "collapsed": false
      },
      "outputs": [],
      "source": [
        "signal_rec = decoder(bits)"
      ]
    },
    {
      "cell_type": "markdown",
      "metadata": {},
      "source": [
        "Plot the original signal against the decoded signal\n\n"
      ]
    },
    {
      "cell_type": "code",
      "execution_count": null,
      "metadata": {
        "collapsed": false
      },
      "outputs": [],
      "source": [
        "fig, ax = plt.subplots(figsize=(16,5))\nplot_2_signals(fig, ax, signal, signal_rec, fs=fs)"
      ]
    },
    {
      "cell_type": "markdown",
      "metadata": {},
      "source": [
        "Measure the percentage root mean square difference\n\n"
      ]
    },
    {
      "cell_type": "code",
      "execution_count": null,
      "metadata": {
        "collapsed": false
      },
      "outputs": [],
      "source": [
        "print(crn.prd(signal, signal_rec))"
      ]
    },
    {
      "cell_type": "markdown",
      "metadata": {},
      "source": [
        "Compute the compression ratio\n\n"
      ]
    },
    {
      "cell_type": "code",
      "execution_count": null,
      "metadata": {
        "collapsed": false
      },
      "outputs": [],
      "source": [
        "compression_ratio = len(signal) * 11 / len(bits)\nprint(compression_ratio)"
      ]
    }
  ],
  "metadata": {
    "kernelspec": {
      "display_name": "Python 3",
      "language": "python",
      "name": "python3"
    },
    "language_info": {
      "codemirror_mode": {
        "name": "ipython",
        "version": 3
      },
      "file_extension": ".py",
      "mimetype": "text/x-python",
      "name": "python",
      "nbconvert_exporter": "python",
      "pygments_lexer": "ipython3",
      "version": "3.8.18"
    }
  },
  "nbformat": 4,
  "nbformat_minor": 0
}