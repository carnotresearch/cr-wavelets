{
  "cells": [
    {
      "cell_type": "markdown",
      "metadata": {},
      "source": [
        "\n# Frequency Change Detection\n\nThis example considers a signal which is a sinusoid whose\nfrequency changes abruptly at a specific point in time.\nLooking at the waveform of the signal, it is very difficult\nto identify the time where the frequency change occurs.\nHowever, when we perform the wavelet decomposition of the\nsignal, we can clearly see the location at which the\ndiscontinuity in frequency occurs.\n\nWe will do the following:\n\n- Synthetically construct a sinusoid with two different frequencies\n  at different times.\n- Examine its Fourier spectrum which cannot reveal this discontinuity.\n- Perform multilevel wavelet decomposition.\n- Visually inspect the detail coefficients at multiple levels to \n  locate the discontinuity\n- Algorithmically locate the discontinuity by scanning the detail \n  coefficients.\n"
      ]
    },
    {
      "cell_type": "code",
      "execution_count": null,
      "metadata": {
        "collapsed": false
      },
      "outputs": [],
      "source": [
        "# Configure JAX to work with 64-bit floating point precision. \nfrom jax.config import config\nconfig.update(\"jax_enable_x64\", True)"
      ]
    },
    {
      "cell_type": "markdown",
      "metadata": {},
      "source": [
        "Let's import necessary libraries \n\n"
      ]
    },
    {
      "cell_type": "code",
      "execution_count": null,
      "metadata": {
        "collapsed": false
      },
      "outputs": [],
      "source": [
        "import jax.numpy as jnp\n# CR-Suite libraries\nfrom cr.nimble.dsp import hard_threshold_sorted\nimport cr.wavelets as wt\n# Utility functions to construct sinusoids\nimport cr.nimble.dsp.signals as signals\n# Plotting\nimport matplotlib.pyplot as plt"
      ]
    },
    {
      "cell_type": "markdown",
      "metadata": {},
      "source": [
        "## Test signal generation\n\n"
      ]
    },
    {
      "cell_type": "code",
      "execution_count": null,
      "metadata": {
        "collapsed": false
      },
      "outputs": [],
      "source": [
        "# Sampling frequency in Hz\nfs = 100\n# Signal duration in seconds\nT = 20\n# Frequency of first part of signal in Hz\nf = 1/8\n# Start and end times of first part of signal\nstart_time = 0\nend_time = 12\n# Construct the first part of signal\nt, x1 = signals.transient_sine_wave(fs, T, f, start_time, end_time)\n# Frequency of second part of signal in Hz\nf = 1/6\n# Start and end times of first part of signal\nstart_time = end_time\nend_time = T\n# Adjust the initial phase of second part of signal to be in continuity with the first part\ninitial_phase=jnp.pi\n# Construct the second part of signal\nt, x2 = signals.transient_sine_wave(fs, T, f, start_time, end_time, initial_phase=initial_phase)\n# Combine the first and second parts of signal\nx = x1 + x2\n# Overall signal length\nn = len(x)\n# Plot the parts and combined signal\nfig, axs = plt.subplots(3, figsize=(12,12))\naxs[0].plot(t,x1)\naxs[1].plot(t,x2)\naxs[2].plot(t,x)"
      ]
    },
    {
      "cell_type": "markdown",
      "metadata": {},
      "source": [
        "The last plot shows the combined signal with discontinuity at t=12 sec when\nthe frequency changes from 1/8 Hz to 1/6 Hz.\nThe change is very difficult to notice as well as locate in the time domain plot of the signal.\n\n"
      ]
    },
    {
      "cell_type": "markdown",
      "metadata": {},
      "source": [
        "## Frequency spectrum\n\n"
      ]
    },
    {
      "cell_type": "code",
      "execution_count": null,
      "metadata": {
        "collapsed": false
      },
      "outputs": [],
      "source": [
        "# Compute the FFT\nf = jnp.fft.fftshift(jnp.fft.fft(x))\n# Plot the magnitude\nfig, axs = plt.subplots(1, figsize=(12,4))\nplt.plot(jnp.abs(f[750:1250]))"
      ]
    },
    {
      "cell_type": "markdown",
      "metadata": {},
      "source": [
        "The frequencies 1/6 and 1/8 Hz are so close that it is difficult to distinguish them \nin the frequency spectrum. Of course, location of the discontinuity cannot be \nidentified in the frequency spectrum.\n\n"
      ]
    },
    {
      "cell_type": "markdown",
      "metadata": {},
      "source": [
        "## Multilevel wavelet decomposition\n\n"
      ]
    },
    {
      "cell_type": "code",
      "execution_count": null,
      "metadata": {
        "collapsed": false
      },
      "outputs": [],
      "source": [
        "# Compute the multilevel wavelet decomposition\ncoeffs = wt.wavedec(x, 'db4')\n# Total number of decomposition levels\nlevels = len(coeffs) -1\nprint(levels)"
      ]
    },
    {
      "cell_type": "markdown",
      "metadata": {},
      "source": [
        "First level detail coefficients\n\n"
      ]
    },
    {
      "cell_type": "code",
      "execution_count": null,
      "metadata": {
        "collapsed": false
      },
      "outputs": [],
      "source": [
        "cd1 = coeffs[-1]\n# Dyadic upsample them to align with the time values\ncd1 = wt.dyadup_in(cd1)"
      ]
    },
    {
      "cell_type": "markdown",
      "metadata": {},
      "source": [
        "Second level detail coefficients\n\n"
      ]
    },
    {
      "cell_type": "code",
      "execution_count": null,
      "metadata": {
        "collapsed": false
      },
      "outputs": [],
      "source": [
        "cd2 = coeffs[-2]\n# Dyadic upsample them to align with the time values\ncd2 = wt.dyadup_in(wt.dyadup_in(cd2))\n# Plot the first and second level detail coefficients\nfig, axs = plt.subplots(2, figsize=(12,12))\naxs[0].plot(t, cd1[:n])\naxs[1].plot(t, cd2[:n])"
      ]
    },
    {
      "cell_type": "markdown",
      "metadata": {},
      "source": [
        "The discontinuities are clearly visible in the plots of detail coefficients \nboth at first level and second level.\nThe detail coefficients have been aligned with the time values.\nBoth plots should large coefficients around t=12 sec.\nLarge coefficients at the boundary are due to boundary effects in DWT and can be safely ignored.\n\n"
      ]
    },
    {
      "cell_type": "markdown",
      "metadata": {},
      "source": [
        "Locate the indices of largest entries (by magnitude) in the detail \ncoefficients at first level\n\n"
      ]
    },
    {
      "cell_type": "code",
      "execution_count": null,
      "metadata": {
        "collapsed": false
      },
      "outputs": [],
      "source": [
        "idx, values = hard_threshold_sorted(cd1, 8)\nprint(idx)"
      ]
    },
    {
      "cell_type": "markdown",
      "metadata": {},
      "source": [
        "After ignoring the first couple of entries for the boundary effects\nat the beginning of the data, we can see that the discontinuity\nhas been correctly identified at sample 1200 which happens to \ncorrespond to t=12 sec.\n"
      ]
    }
  ],
  "metadata": {
    "kernelspec": {
      "display_name": "Python 3",
      "language": "python",
      "name": "python3"
    },
    "language_info": {
      "codemirror_mode": {
        "name": "ipython",
        "version": 3
      },
      "file_extension": ".py",
      "mimetype": "text/x-python",
      "name": "python",
      "nbconvert_exporter": "python",
      "pygments_lexer": "ipython3",
      "version": "3.8.18"
    }
  },
  "nbformat": 4,
  "nbformat_minor": 0
}